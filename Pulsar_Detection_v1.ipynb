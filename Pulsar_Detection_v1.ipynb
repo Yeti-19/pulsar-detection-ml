{
 "cells": [
  {
   "cell_type": "markdown",
   "id": "bb4b602b",
   "metadata": {},
   "source": [
    "Dataset recap\n",
    "\n",
    "\n",
    "Total: 17,898 examples\n",
    "\n",
    "Positive (Pulsars): 1,639 (~9.2%)\n",
    "\n",
    "Negative (RFI/noise): 16,259 (~90.8%)\n",
    "\n",
    "\n",
    "Features (all continuous):\n",
    "\n",
    "    Mean of integrated profile\n",
    "\n",
    "    Std dev of integrated profile\n",
    "\n",
    "    Excess kurtosis of integrated profile\n",
    "\n",
    "    Skewness of integrated profile\n",
    "\n",
    "    Mean of DM-SNR curve\n",
    "\n",
    "    Std dev of DM-SNR curve\n",
    "\n",
    "    Excess kurtosis of DM-SNR curve\n",
    "\n",
    "    Skewness of DM-SNR curve\n",
    "\n",
    "Labels: 0 (negative), 1 (positive)\n",
    "\n",
    "https://archive.ics.uci.edu/dataset/372/htru2"
   ]
  },
  {
   "cell_type": "code",
   "execution_count": 16,
   "id": "4096da9e",
   "metadata": {},
   "outputs": [],
   "source": [
    "import numpy as np\n",
    "import math\n",
    "import matplotlib.pyplot as plt\n",
    "from sklearn.metrics import precision_score, recall_score, f1_score, roc_auc_score, confusion_matrix\n"
   ]
  },
  {
   "cell_type": "code",
   "execution_count": 17,
   "id": "6e213c99",
   "metadata": {},
   "outputs": [
    {
     "name": "stdout",
     "output_type": "stream",
     "text": [
      "Features shape: (17898, 8)\n",
      "Labels shape: (17898,)\n",
      "(array([0., 1.]), array([16259,  1639]))\n"
     ]
    }
   ],
   "source": [
    "# Load the CSV file, skipping header if present\n",
    "data = np.loadtxt('HTRU_2.csv', delimiter=',')  # skiprows=1 if there is a header\n",
    "\n",
    "# Split into features and labels\n",
    "X = data[:, :-1]  # all columns except last\n",
    "y = data[:, -1]   # last column\n",
    "\n",
    "print(\"Features shape:\", X.shape)\n",
    "print(\"Labels shape:\", y.shape)\n",
    "print(np.unique(y, return_counts=True))  # Check distribution of classes"
   ]
  },
  {
   "cell_type": "code",
   "execution_count": 18,
   "id": "52b116d8",
   "metadata": {},
   "outputs": [],
   "source": [
    "# Define function for splitting the training and testing data\n",
    "\n",
    "\n",
    "def split(X, y, test_size=0.2, random_state=None):\n",
    "    if random_state is not None:\n",
    "        np.random.seed(random_state)\n",
    "\n",
    "    # Find the indices for each class\n",
    "    classes = np.unique(y)\n",
    "    train_indices = []\n",
    "    test_indices = []\n",
    "\n",
    "    for cls in classes:\n",
    "        cls_indices = np.where(y == cls)[0]\n",
    "        np.random.shuffle(cls_indices)\n",
    "\n",
    "        n_test = int(len(cls_indices) * test_size)\n",
    "\n",
    "        test_indices.extend(cls_indices[:n_test])\n",
    "        train_indices.extend(cls_indices[n_test:])\n",
    "\n",
    "    # Convert to numpy arrays\n",
    "    train_indices = np.array(train_indices)\n",
    "    test_indices = np.array(test_indices)\n",
    "\n",
    "    # Shuffle again to mix classes in final splits\n",
    "    np.random.shuffle(train_indices)\n",
    "    np.random.shuffle(test_indices)\n",
    "\n",
    "    X_train = X[train_indices]\n",
    "    y_train = y[train_indices]\n",
    "    X_test = X[test_indices]\n",
    "    y_test = y[test_indices]\n",
    "\n",
    "    return X_train, X_test, y_train, y_test\n"
   ]
  },
  {
   "cell_type": "code",
   "execution_count": 19,
   "id": "097d5503",
   "metadata": {},
   "outputs": [],
   "source": [
    "# Define training and testing data\n",
    "X_train, X_test, y_train, y_test = split(X,y)"
   ]
  },
  {
   "cell_type": "code",
   "execution_count": 20,
   "id": "4545e275",
   "metadata": {},
   "outputs": [
    {
     "name": "stdout",
     "output_type": "stream",
     "text": [
      "First 5 elements:  [[ 1.04445312e+02  5.47847790e+01  3.28619322e-01 -3.47524523e-01\n",
      "   1.40719064e+00  1.48152135e+01  1.17013504e+01  1.49252476e+02]\n",
      " [ 9.16250000e+01  4.75821658e+01  8.44691022e-01  1.32428500e+00\n",
      "   1.06688963e+00  1.12127737e+01  1.51077482e+01  2.75215672e+02]\n",
      " [ 1.25632812e+02  3.96115654e+01  2.30649882e-01  8.62036047e-01\n",
      "   1.88545151e+00  1.42206485e+01  1.12309687e+01  1.58386793e+02]\n",
      " [ 1.01585938e+02  4.67056152e+01  6.03978802e-01  1.12749467e+00\n",
      "   2.26337793e+00  1.35314583e+01  9.52258626e+00  1.27246241e+02]\n",
      " [ 1.35468750e+02  4.95559875e+01  7.36776720e-02 -2.72905389e-01\n",
      "   3.21655518e+00  2.19859888e+01  8.13866035e+00  7.18727605e+01]]\n",
      "<class 'numpy.ndarray'>\n"
     ]
    }
   ],
   "source": [
    "print('First 5 elements: ', X_train[:5])\n",
    "print(type(X_train))"
   ]
  },
  {
   "cell_type": "code",
   "execution_count": 21,
   "id": "5598c22a",
   "metadata": {},
   "outputs": [
    {
     "name": "stdout",
     "output_type": "stream",
     "text": [
      "First five elements in y_train are:\n",
      " [0. 0. 0. 0. 0.]\n",
      "Type of y_train: <class 'numpy.ndarray'>\n"
     ]
    }
   ],
   "source": [
    "print(\"First five elements in y_train are:\\n\", y_train[:5])\n",
    "print(\"Type of y_train:\",type(y_train))"
   ]
  },
  {
   "cell_type": "code",
   "execution_count": 22,
   "id": "93e8bf13",
   "metadata": {},
   "outputs": [
    {
     "name": "stdout",
     "output_type": "stream",
     "text": [
      "The shape of X_train is: (14320, 8)\n",
      "The shape of y_train is: (14320,)\n",
      "We have m = 14320 training examples\n"
     ]
    }
   ],
   "source": [
    "print ('The shape of X_train is: ' + str(X_train.shape))\n",
    "print ('The shape of y_train is: ' + str(y_train.shape))\n",
    "print ('We have m = %d training examples' % (len(y_train)))"
   ]
  },
  {
   "cell_type": "code",
   "execution_count": 23,
   "id": "15e625a4",
   "metadata": {},
   "outputs": [],
   "source": [
    "# Sigmoid Function \n",
    "\n",
    "def sigmoid(z):\n",
    "    g = 1/(1+np.exp(-1*z))\n",
    "\n",
    "    return g\n"
   ]
  },
  {
   "cell_type": "code",
   "execution_count": 40,
   "id": "97749b0a",
   "metadata": {},
   "outputs": [],
   "source": [
    "# COST FUNCTION FOR LOGISTIC REGRESSION\n",
    "\n",
    "def cost_function(X,y,w,b, *argv):\n",
    "\n",
    "    m,n = X.shape\n",
    "\n",
    "    L = 0\n",
    "\n",
    "    for i in range(0,m):\n",
    "        z = np.dot(w,X[i]) + b\n",
    "        f = sigmoid(z)\n",
    "\n",
    "        if y[i] == 1:\n",
    "            L -= np.log(f)\n",
    "        else:\n",
    "            L-= np.log(1-f)\n",
    "\n",
    "    total_cost = L/m \n",
    "\n",
    "    return total_cost"
   ]
  },
  {
   "cell_type": "code",
   "execution_count": 26,
   "id": "54c15b79",
   "metadata": {},
   "outputs": [],
   "source": [
    "# GRADIENT DESCENT \n",
    "\n",
    "def gradient(X,y,w,b,*argv):  #argv is for in case i add regularization\n",
    "\n",
    "    m,n = X.shape\n",
    "    dj_dw = np.zeros(w.shape)\n",
    "    dj_db = 0.\n",
    "\n",
    "    for i in range(m):\n",
    "        z = np.dot(w,X[i]) + b\n",
    "        f = sigmoid(z)\n",
    "\n",
    "        dj_db_i = f - y[i]\n",
    "        dj_db += dj_db_i\n",
    "\n",
    "        for j in range(n):\n",
    "            dj_dw[j] += (f-y[i])*X[i][j]\n",
    "\n",
    "    dj_dw = dj_dw/m\n",
    "    dj_db = dj_db/m\n",
    "\n",
    "    return dj_db, dj_dw\n"
   ]
  },
  {
   "cell_type": "code",
   "execution_count": null,
   "id": "cda01f40",
   "metadata": {},
   "outputs": [],
   "source": [
    "def gradient_descent(X,y,w_in,b_in,cost_function, gradient_function, alpha, num_iters, lambda_=0.1): #Regularization will be added later\n",
    "\n",
    "    m = len(X)\n",
    "    \n",
    "    for i in range(num_iters):\n",
    "\n",
    "        dj_db, dj_dw = gradient_function(X,y,w_in,b_in)\n",
    "\n",
    "        w_in = w_in - alpha*dj_dw\n",
    "        b_in = b_in - alpha*dj_db\n",
    "\n",
    "        '''if i<100000:\n",
    "            c = cost_function(X,y,w_in,b_in)'''\n",
    "            \n",
    "\n",
    "    return w_in,b_in"
   ]
  },
  {
   "cell_type": "code",
   "execution_count": 28,
   "id": "eb537fab",
   "metadata": {},
   "outputs": [],
   "source": [
    "# Predicting Pulsars\n",
    "\n",
    "def predict(X,w,b):\n",
    "\n",
    "    m,n = X.shape\n",
    "    p = np.zeros(m)\n",
    "\n",
    "    for i in range(m):\n",
    "        z = np.dot(w,X[i]) + b\n",
    "        f = sigmoid(z)\n",
    "        if f >= 0.5:\n",
    "            p[i] = 1\n",
    "    \n",
    "    return p"
   ]
  },
  {
   "cell_type": "code",
   "execution_count": null,
   "id": "4848d7b3",
   "metadata": {},
   "outputs": [],
   "source": [
    "# Put the values and implement logistic regression\n",
    "n = X_train.shape[1]\n",
    "w = np.zeros(n)\n",
    "b = 0\n",
    "\n",
    "w, b = gradient_descent(X_train, y_train, w, b, cost_function, gradient, alpha=0.01, num_iters=1000)\n"
   ]
  },
  {
   "cell_type": "code",
   "execution_count": 43,
   "id": "7936a427",
   "metadata": {},
   "outputs": [
    {
     "name": "stdout",
     "output_type": "stream",
     "text": [
      "Precision: 0.9139784946236559\n",
      "Recall: 0.7798165137614679\n",
      "F1 Score: 0.8415841584158416\n",
      "ROC AUC: 0.8862170849336407\n",
      "Confusion Matrix:\n",
      " [[3227   24]\n",
      " [  72  255]]\n"
     ]
    }
   ],
   "source": [
    "# Calculate accuracy using some metric\n",
    "\n",
    "y_pred = predict(X_test, w, b)\n",
    "\n",
    "print(\"Precision:\", precision_score(y_test, y_pred))\n",
    "print(\"Recall:\", recall_score(y_test, y_pred))\n",
    "print(\"F1 Score:\", f1_score(y_test, y_pred))\n",
    "print(\"ROC AUC:\", roc_auc_score(y_test, y_pred))\n",
    "print(\"Confusion Matrix:\\n\", confusion_matrix(y_test, y_pred))"
   ]
  }
 ],
 "metadata": {
  "kernelspec": {
   "display_name": "Python 3",
   "language": "python",
   "name": "python3"
  },
  "language_info": {
   "codemirror_mode": {
    "name": "ipython",
    "version": 3
   },
   "file_extension": ".py",
   "mimetype": "text/x-python",
   "name": "python",
   "nbconvert_exporter": "python",
   "pygments_lexer": "ipython3",
   "version": "3.12.3"
  }
 },
 "nbformat": 4,
 "nbformat_minor": 5
}
